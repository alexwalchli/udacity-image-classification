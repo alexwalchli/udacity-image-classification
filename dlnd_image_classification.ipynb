{
 "cells": [
  {
   "cell_type": "markdown",
   "metadata": {
    "collapsed": true,
    "deletable": true,
    "editable": true
   },
   "source": [
    "# Image Classification\n",
    "In this project, you'll classify images from the [CIFAR-10 dataset](https://www.cs.toronto.edu/~kriz/cifar.html).  The dataset consists of airplanes, dogs, cats, and other objects. You'll preprocess the images, then train a convolutional neural network on all the samples. The images need to be normalized and the labels need to be one-hot encoded.  You'll get to apply what you learned and build a convolutional, max pooling, dropout, and fully connected layers.  At the end, you'll get to see your neural network's predictions on the sample images.\n",
    "## Get the Data\n",
    "Run the following cell to download the [CIFAR-10 dataset for python](https://www.cs.toronto.edu/~kriz/cifar-10-python.tar.gz)."
   ]
  },
  {
   "cell_type": "code",
   "execution_count": 4,
   "metadata": {
    "collapsed": false,
    "deletable": true,
    "editable": true
   },
   "outputs": [
    {
     "name": "stdout",
     "output_type": "stream",
     "text": [
      "Collecting tqdm\n",
      "  Downloading tqdm-4.11.2-py2.py3-none-any.whl (46kB)\n",
      "\u001b[K    100% |################################| 51kB 2.2MB/s ta 0:00:01\n",
      "\u001b[?25hInstalling collected packages: tqdm\n",
      "Successfully installed tqdm-4.11.2\n"
     ]
    }
   ],
   "source": [
    "!pip install tqdm"
   ]
  },
  {
   "cell_type": "code",
   "execution_count": 6,
   "metadata": {
    "collapsed": false,
    "deletable": true,
    "editable": true
   },
   "outputs": [
    {
     "name": "stderr",
     "output_type": "stream",
     "text": [
      "CIFAR-10 Dataset: 171MB [01:18, 2.18MB/s]                              \n"
     ]
    },
    {
     "name": "stdout",
     "output_type": "stream",
     "text": [
      "All files found!\n"
     ]
    }
   ],
   "source": [
    "\"\"\"\n",
    "DON'T MODIFY ANYTHING IN THIS CELL THAT IS BELOW THIS LINE\n",
    "\"\"\"\n",
    "from urllib.request import urlretrieve\n",
    "from os.path import isfile, isdir\n",
    "from tqdm import tqdm\n",
    "import problem_unittests as tests\n",
    "import tarfile\n",
    "\n",
    "cifar10_dataset_folder_path = 'cifar-10-batches-py'\n",
    "\n",
    "class DLProgress(tqdm):\n",
    "    last_block = 0\n",
    "\n",
    "    def hook(self, block_num=1, block_size=1, total_size=None):\n",
    "        self.total = total_size\n",
    "        self.update((block_num - self.last_block) * block_size)\n",
    "        self.last_block = block_num\n",
    "\n",
    "if not isfile('cifar-10-python.tar.gz'):\n",
    "    with DLProgress(unit='B', unit_scale=True, miniters=1, desc='CIFAR-10 Dataset') as pbar:\n",
    "        urlretrieve(\n",
    "            'https://www.cs.toronto.edu/~kriz/cifar-10-python.tar.gz',\n",
    "            'cifar-10-python.tar.gz',\n",
    "            pbar.hook)\n",
    "\n",
    "if not isdir(cifar10_dataset_folder_path):\n",
    "    with tarfile.open('cifar-10-python.tar.gz') as tar:\n",
    "        tar.extractall()\n",
    "        tar.close()\n",
    "\n",
    "\n",
    "tests.test_folder_path(cifar10_dataset_folder_path)"
   ]
  },
  {
   "cell_type": "markdown",
   "metadata": {
    "deletable": true,
    "editable": true
   },
   "source": [
    "## Explore the Data\n",
    "The dataset is broken into batches to prevent your machine from running out of memory.  The CIFAR-10 dataset consists of 5 batches, named `data_batch_1`, `data_batch_2`, etc.. Each batch contains the labels and images that are one of the following:\n",
    "* airplane\n",
    "* automobile\n",
    "* bird\n",
    "* cat\n",
    "* deer\n",
    "* dog\n",
    "* frog\n",
    "* horse\n",
    "* ship\n",
    "* truck\n",
    "\n",
    "Understanding a dataset is part of making predictions on the data.  Play around with the code cell below by changing the `batch_id` and `sample_id`. The `batch_id` is the id for a batch (1-5). The `sample_id` is the id for a image and label pair in the batch.\n",
    "\n",
    "Ask yourself \"What are all possible labels?\", \"What is the range of values for the image data?\", \"Are the labels in order or random?\".  Answers to questions like these will help you preprocess the data and end up with better predictions."
   ]
  },
  {
   "cell_type": "code",
   "execution_count": 7,
   "metadata": {
    "collapsed": false,
    "deletable": true,
    "editable": true
   },
   "outputs": [
    {
     "name": "stdout",
     "output_type": "stream",
     "text": [
      "\n",
      "Stats of batch 1:\n",
      "Samples: 10000\n",
      "Label Counts: {0: 1005, 1: 974, 2: 1032, 3: 1016, 4: 999, 5: 937, 6: 1030, 7: 1001, 8: 1025, 9: 981}\n",
      "First 20 Labels: [6, 9, 9, 4, 1, 1, 2, 7, 8, 3, 4, 7, 7, 2, 9, 9, 9, 3, 2, 6]\n",
      "\n",
      "Example of Image 5:\n",
      "Image - Min Value: 0 Max Value: 252\n",
      "Image - Shape: (32, 32, 3)\n",
      "Label - Label Id: 1 Name: automobile\n"
     ]
    },
    {
     "data": {
      "image/png": "[encoded data removed]",
      "text/plain": [
       "<matplotlib.figure.Figure at 0x7f3ba8c1d898>"
      ]
     },
     "metadata": {
      "image/png": {
       "height": 250,
       "width": 253
      }
     },
     "output_type": "display_data"
    }
   ],
   "source": [
    "%matplotlib inline\n",
    "%config InlineBackend.figure_format = 'retina'\n",
    "\n",
    "import helper\n",
    "import numpy as np\n",
    "\n",
    "# Explore the dataset\n",
    "batch_id = 1\n",
    "sample_id = 5\n",
    "helper.display_stats(cifar10_dataset_folder_path, batch_id, sample_id)"
   ]
  },
  {
   "cell_type": "markdown",
   "metadata": {
    "deletable": true,
    "editable": true
   },
   "source": [
    "## Implement Preprocess Functions\n",
    "### Normalize\n",
    "In the cell below, implement the `normalize` function to take in image data, `x`, and return it as a normalized Numpy array. The values should be in the range of 0 to 1, inclusive.  The return object should be the same shape as `x`."
   ]
  },
  {
   "cell_type": "code",
   "execution_count": 8,
   "metadata": {
    "collapsed": false,
    "deletable": true,
    "editable": true
   },
   "outputs": [
    {
     "name": "stdout",
     "output_type": "stream",
     "text": [
      "Tests Passed\n"
     ]
    }
   ],
   "source": [
    "def normalize(x):\n",
    "    \"\"\"\n",
    "    Normalize a list of sample image data in the range of 0 to 1\n",
    "    : x: List of image data.  The image shape is (32, 32, 3)\n",
    "    : return: Numpy array of normalize data\n",
    "    \"\"\"\n",
    "    max_value = np.amax(x)\n",
    "    min_value = np.amin(x)\n",
    "    a = 0\n",
    "    b = 1\n",
    "    \n",
    "    normalized = []\n",
    "    for data in x:\n",
    "        normalized.append(a + (((data-min_value)*(b-a))/(max_value-min_value)))\n",
    "        \n",
    "    return np.array(normalized)\n",
    "\n",
    "\n",
    "\"\"\"\n",
    "DON'T MODIFY ANYTHING IN THIS CELL THAT IS BELOW THIS LINE\n",
    "\"\"\"\n",
    "tests.test_normalize(normalize)"
   ]
  },
  {
   "cell_type": "markdown",
   "metadata": {
    "deletable": true,
    "editable": true
   },
   "source": [
    "### One-hot encode\n",
    "Just like the previous code cell, you'll be implementing a function for preprocessing.  This time, you'll implement the `one_hot_encode` function. The input, `x`, are a list of labels.  Implement the function to return the list of labels as One-Hot encoded Numpy array.  The possible values for labels are 0 to 9. The one-hot encoding function should return the same encoding for each value between each call to `one_hot_encode`.  Make sure to save the map of encodings outside the function.\n",
    "\n",
    "Hint: Don't reinvent the wheel."
   ]
  },
  {
   "cell_type": "code",
   "execution_count": 9,
   "metadata": {
    "collapsed": false,
    "deletable": true,
    "editable": true
   },
   "outputs": [
    {
     "name": "stdout",
     "output_type": "stream",
     "text": [
      "Tests Passed\n"
     ]
    }
   ],
   "source": [
    "from sklearn.preprocessing import LabelBinarizer\n",
    "\n",
    "encoder = LabelBinarizer()\n",
    "encoder.fit([0,1,2,3,4,5,6,7,8,9])\n",
    "\n",
    "def one_hot_encode(x):\n",
    "    \"\"\"\n",
    "    One hot encode a list of sample labels. Return a one-hot encoded vector for each label.\n",
    "    : x: List of sample Labels\n",
    "    : return: Numpy array of one-hot encoded labels\n",
    "    \"\"\"\n",
    "    return np.array(encoder.transform(x))\n",
    "\n",
    "\"\"\"\n",
    "DON'T MODIFY ANYTHING IN THIS CELL THAT IS BELOW THIS LINE\n",
    "\"\"\"\n",
    "tests.test_one_hot_encode(one_hot_encode)"
   ]
  },
  {
   "cell_type": "markdown",
   "metadata": {
    "deletable": true,
    "editable": true
   },
   "source": [
    "### Randomize Data\n",
    "As you saw from exploring the data above, the order of the samples are randomized.  It doesn't hurt to randomize it again, but you don't need to for this dataset."
   ]
  },
  {
   "cell_type": "markdown",
   "metadata": {
    "deletable": true,
    "editable": true
   },
   "source": [
    "## Preprocess all the data and save it\n",
    "Running the code cell below will preprocess all the CIFAR-10 data and save it to file. The code below also uses 10% of the training data for validation."
   ]
  },
  {
   "cell_type": "code",
   "execution_count": 10,
   "metadata": {
    "collapsed": false,
    "deletable": true,
    "editable": true
   },
   "outputs": [],
   "source": [
    "\"\"\"\n",
    "DON'T MODIFY ANYTHING IN THIS CELL\n",
    "\"\"\"\n",
    "# Preprocess Training, Validation, and Testing Data\n",
    "helper.preprocess_and_save_data(cifar10_dataset_folder_path, normalize, one_hot_encode)"
   ]
  },
  {
   "cell_type": "markdown",
   "metadata": {
    "deletable": true,
    "editable": true
   },
   "source": [
    "# Check Point\n",
    "This is your first checkpoint.  If you ever decide to come back to this notebook or have to restart the notebook, you can start from here.  The preprocessed data has been saved to disk."
   ]
  },
  {
   "cell_type": "code",
   "execution_count": 11,
   "metadata": {
    "collapsed": true,
    "deletable": true,
    "editable": true
   },
   "outputs": [],
   "source": [
    "\"\"\"\n",
    "DON'T MODIFY ANYTHING IN THIS CELL\n",
    "\"\"\"\n",
    "import pickle\n",
    "import problem_unittests as tests\n",
    "import helper\n",
    "\n",
    "# Load the Preprocessed Validation data\n",
    "valid_features, valid_labels = pickle.load(open('preprocess_validation.p', mode='rb'))"
   ]
  },
  {
   "cell_type": "markdown",
   "metadata": {
    "deletable": true,
    "editable": true
   },
   "source": [
    "## Build the network\n",
    "For the neural network, you'll build each layer into a function.  Most of the code you've seen has been outside of functions. To test your code more thoroughly, we require that you put each layer in a function.  This allows us to give you better feedback and test for simple mistakes using our unittests before you submit your project.\n",
    "\n",
    "If you're finding it hard to dedicate enough time for this course a week, we've provided a small shortcut to this part of the project. In the next couple of problems, you'll have the option to use [TensorFlow Layers](https://www.tensorflow.org/api_docs/python/tf/layers) or [TensorFlow Layers (contrib)](https://www.tensorflow.org/api_guides/python/contrib.layers) to build each layer, except \"Convolutional & Max Pooling\" layer.  TF Layers is similar to Keras's and TFLearn's abstraction to layers, so it's easy to pickup.\n",
    "\n",
    "If you would like to get the most of this course, try to solve all the problems without TF Layers.  Let's begin!\n",
    "### Input\n",
    "The neural network needs to read the image data, one-hot encoded labels, and dropout keep probability. Implement the following functions\n",
    "* Implement `neural_net_image_input`\n",
    " * Return a [TF Placeholder](https://www.tensorflow.org/api_docs/python/tf/placeholder)\n",
    " * Set the shape using `image_shape` with batch size set to `None`.\n",
    " * Name the TensorFlow placeholder \"x\" using the TensorFlow `name` parameter in the [TF Placeholder](https://www.tensorflow.org/api_docs/python/tf/placeholder).\n",
    "* Implement `neural_net_label_input`\n",
    " * Return a [TF Placeholder](https://www.tensorflow.org/api_docs/python/tf/placeholder)\n",
    " * Set the shape using `n_classes` with batch size set to `None`.\n",
    " * Name the TensorFlow placeholder \"y\" using the TensorFlow `name` parameter in the [TF Placeholder](https://www.tensorflow.org/api_docs/python/tf/placeholder).\n",
    "* Implement `neural_net_keep_prob_input`\n",
    " * Return a [TF Placeholder](https://www.tensorflow.org/api_docs/python/tf/placeholder) for dropout keep probability.\n",
    " * Name the TensorFlow placeholder \"keep_prob\" using the TensorFlow `name` parameter in the [TF Placeholder](https://www.tensorflow.org/api_docs/python/tf/placeholder).\n",
    "\n",
    "These names will be used at the end of the project to load your saved model.\n",
    "\n",
    "Note: `None` for shapes in TensorFlow allow for a dynamic size."
   ]
  },
  {
   "cell_type": "code",
   "execution_count": 12,
   "metadata": {
    "collapsed": false,
    "deletable": true,
    "editable": true
   },
   "outputs": [
    {
     "name": "stdout",
     "output_type": "stream",
     "text": [
      "Image Input Tests Passed.\n",
      "Label Input Tests Passed.\n",
      "Keep Prob Tests Passed.\n"
     ]
    }
   ],
   "source": [
    "import tensorflow as tf\n",
    "\n",
    "def neural_net_image_input(image_shape):\n",
    "    \"\"\"\n",
    "    Return a Tensor for a bach of image input\n",
    "    : image_shape: Shape of the images\n",
    "    : return: Tensor for image input.\n",
    "    \"\"\"\n",
    "    return tf.placeholder(tf.float32, [None, image_shape[0], image_shape[1], image_shape[2]], 'x')\n",
    "\n",
    "\n",
    "def neural_net_label_input(n_classes):\n",
    "    \"\"\"\n",
    "    Return a Tensor for a batch of label input\n",
    "    : n_classes: Number of classes\n",
    "    : return: Tensor for label input.\n",
    "    \"\"\"\n",
    "    return tf.placeholder(tf.float32, [None, n_classes], 'y')\n",
    "\n",
    "\n",
    "def neural_net_keep_prob_input():\n",
    "    \"\"\"\n",
    "    Return a Tensor for keep probability\n",
    "    : return: Tensor for keep probability.\n",
    "    \"\"\"\n",
    "    return tf.placeholder(tf.float32, name='keep_prob')\n",
    "\n",
    "\n",
    "\"\"\"\n",
    "DON'T MODIFY ANYTHING IN THIS CELL THAT IS BELOW THIS LINE\n",
    "\"\"\"\n",
    "tf.reset_default_graph()\n",
    "tests.test_nn_image_inputs(neural_net_image_input)\n",
    "tests.test_nn_label_inputs(neural_net_label_input)\n",
    "tests.test_nn_keep_prob_inputs(neural_net_keep_prob_input)"
   ]
  },
  {
   "cell_type": "markdown",
   "metadata": {
    "deletable": true,
    "editable": true
   },
   "source": [
    "### Convolution and Max Pooling Layer\n",
    "Convolution layers have a lot of success with images. For this code cell, you should implement the function `conv2d_maxpool` to apply convolution then max pooling:\n",
    "* Create the weight and bias using `conv_ksize`, `conv_num_outputs` and the shape of `x_tensor`.\n",
    "* Apply a convolution to `x_tensor` using weight and `conv_strides`.\n",
    " * We recommend you use same padding, but you're welcome to use any padding.\n",
    "* Add bias\n",
    "* Add a nonlinear activation to the convolution.\n",
    "* Apply Max Pooling using `pool_ksize` and `pool_strides`.\n",
    " * We recommend you use same padding, but you're welcome to use any padding.\n",
    "\n",
    "Note: You **can't** use [TensorFlow Layers](https://www.tensorflow.org/api_docs/python/tf/layers) or [TensorFlow Layers (contrib)](https://www.tensorflow.org/api_guides/python/contrib.layers) for this layer.  You're free to use any TensorFlow package for all the other layers."
   ]
  },
  {
   "cell_type": "code",
   "execution_count": 47,
   "metadata": {
    "collapsed": false,
    "deletable": true,
    "editable": true
   },
   "outputs": [
    {
     "name": "stdout",
     "output_type": "stream",
     "text": [
      "Tests Passed\n"
     ]
    }
   ],
   "source": [
    "def conv2d_maxpool(x_tensor, conv_num_outputs, conv_ksize, conv_strides, pool_ksize, pool_strides):\n",
    "    \"\"\"\n",
    "    Apply convolution then max pooling to x_tensor\n",
    "    :param x_tensor: TensorFlow Tensor\n",
    "    :param conv_num_outputs: Number of outputs for the convolutional layer\n",
    "    :param conv_strides: Stride 2-D Tuple for convolution\n",
    "    :param pool_ksize: kernal size 2-D Tuple for pool\n",
    "    :param pool_strides: Stride 2-D Tuple for pool\n",
    "    : return: A tensor that represents convolution and max pooling of x_tensor\n",
    "    \"\"\"\n",
    "    weight_params = [conv_ksize[0], conv_ksize[1], int(x_tensor.shape[3]), conv_num_outputs]\n",
    "    conv_strides_params = [1, conv_strides[0], conv_strides[1], 1]\n",
    "    pool_strides_params = [1, pool_strides[0], pool_strides[1], 1]\n",
    "    pool_ksize_params = [1, pool_ksize[0], pool_ksize[1], 1]\n",
    "    \n",
    "    weight = tf.Variable(tf.truncated_normal(weight_params, stddev=0.1, mean=0))\n",
    "    bias = tf.Variable(tf.fill([conv_num_outputs], 0.1))\n",
    "    \n",
    "    conv_layer = tf.nn.conv2d(x_tensor, weight, strides=conv_strides_params, padding='SAME')\n",
    "    conv_layer = tf.nn.bias_add(conv_layer, bias)\n",
    "    conv_layer = tf.nn.relu(conv_layer)\n",
    "    \n",
    "    conv_layer = tf.nn.max_pool(conv_layer, ksize=pool_ksize_params, strides=pool_strides_params, padding='SAME')\n",
    "    \n",
    "    return conv_layer\n",
    "\n",
    "\n",
    "\"\"\"\n",
    "DON'T MODIFY ANYTHING IN THIS CELL THAT IS BELOW THIS LINE\n",
    "\"\"\"\n",
    "tests.test_con_pool(conv2d_maxpool)"
   ]
  },
  {
   "cell_type": "markdown",
   "metadata": {
    "deletable": true,
    "editable": true
   },
   "source": [
    "### Flatten Layer\n",
    "Implement the `flatten` function to change the dimension of `x_tensor` from a 4-D tensor to a 2-D tensor.  The output should be the shape (*Batch Size*, *Flattened Image Size*). You can use [TensorFlow Layers](https://www.tensorflow.org/api_docs/python/tf/layers) or [TensorFlow Layers (contrib)](https://www.tensorflow.org/api_guides/python/contrib.layers) for this layer."
   ]
  },
  {
   "cell_type": "code",
   "execution_count": 48,
   "metadata": {
    "collapsed": false,
    "deletable": true,
    "editable": true
   },
   "outputs": [
    {
     "name": "stdout",
     "output_type": "stream",
     "text": [
      "Tests Passed\n"
     ]
    }
   ],
   "source": [
    "def flatten(x_tensor):\n",
    "    \"\"\"\n",
    "    Flatten x_tensor to (Batch Size, Flattened Image Size)\n",
    "    : x_tensor: A tensor of size (Batch Size, ...), where ... are the image dimensions.\n",
    "    : return: A tensor of size (Batch Size, Flattened Image Size).\n",
    "    \"\"\"\n",
    "    return tf.contrib.layers.flatten(x_tensor)\n",
    "\n",
    "\n",
    "\"\"\"\n",
    "DON'T MODIFY ANYTHING IN THIS CELL THAT IS BELOW THIS LINE\n",
    "\"\"\"\n",
    "tests.test_flatten(flatten)"
   ]
  },
  {
   "cell_type": "markdown",
   "metadata": {
    "deletable": true,
    "editable": true
   },
   "source": [
    "### Fully-Connected Layer\n",
    "Implement the `fully_conn` function to apply a fully connected layer to `x_tensor` with the shape (*Batch Size*, *num_outputs*). You can use [TensorFlow Layers](https://www.tensorflow.org/api_docs/python/tf/layers) or [TensorFlow Layers (contrib)](https://www.tensorflow.org/api_guides/python/contrib.layers) for this layer."
   ]
  },
  {
   "cell_type": "code",
   "execution_count": 49,
   "metadata": {
    "collapsed": false,
    "deletable": true,
    "editable": true
   },
   "outputs": [
    {
     "name": "stdout",
     "output_type": "stream",
     "text": [
      "Tests Passed\n"
     ]
    }
   ],
   "source": [
    "def fully_conn(x_tensor, num_outputs):\n",
    "    \"\"\"\n",
    "    Apply a fully connected layer to x_tensor using weight and bias\n",
    "    : x_tensor: A 2-D tensor where the first dimension is batch size.\n",
    "    : num_outputs: The number of output that the new tensor should be.\n",
    "    : return: A 2-D tensor where the second dimension is num_outputs.\n",
    "    \"\"\"\n",
    "    x_shape = x_tensor.get_shape().as_list()\n",
    "    weight_shape = [int(x_shape[1]), num_outputs]\n",
    "    weights = tf.Variable(tf.truncated_normal(weight_shape, stddev=0.1, mean=0))\n",
    "    biases = tf.Variable(tf.fill([num_outputs], 0.1))\n",
    "    \n",
    "    x_tensor = tf.add(tf.matmul(x_tensor, weights), biases)\n",
    "    x_tensor = tf.nn.relu(x_tensor)\n",
    "    \n",
    "    return x_tensor\n",
    "\n",
    "\n",
    "\"\"\"\n",
    "DON'T MODIFY ANYTHING IN THIS CELL THAT IS BELOW THIS LINE\n",
    "\"\"\"\n",
    "tests.test_fully_conn(fully_conn)"
   ]
  },
  {
   "cell_type": "markdown",
   "metadata": {
    "deletable": true,
    "editable": true
   },
   "source": [
    "### Output Layer\n",
    "Implement the `output` function to apply a fully connected layer to `x_tensor` with the shape (*Batch Size*, *num_outputs*). You can use [TensorFlow Layers](https://www.tensorflow.org/api_docs/python/tf/layers) or [TensorFlow Layers (contrib)](https://www.tensorflow.org/api_guides/python/contrib.layers) for this layer.\n",
    "\n",
    "Note: Activation, softmax, or cross entropy shouldn't be applied to this."
   ]
  },
  {
   "cell_type": "code",
   "execution_count": 50,
   "metadata": {
    "collapsed": false,
    "deletable": true,
    "editable": true
   },
   "outputs": [
    {
     "name": "stdout",
     "output_type": "stream",
     "text": [
      "Tests Passed\n"
     ]
    }
   ],
   "source": [
    "def output(x_tensor, num_outputs):\n",
    "    \"\"\"\n",
    "    Apply a output layer to x_tensor using weight and bias\n",
    "    : x_tensor: A 2-D tensor where the first dimension is batch size.\n",
    "    : num_outputs: The number of output that the new tensor should be.\n",
    "    : return: A 2-D tensor where the second dimension is num_outputs.\n",
    "    \"\"\"\n",
    "    x_shape = x_tensor.get_shape().as_list()\n",
    "    weight_shape = [int(x_shape[1]), num_outputs]\n",
    "    weights = tf.Variable(tf.truncated_normal(weight_shape, stddev=0.1, mean=0))\n",
    "    biases = tf.Variable(tf.fill([num_outputs], 0.1))\n",
    "    \n",
    "    x_tensor = tf.add(tf.matmul(x_tensor, weights), biases)\n",
    "    \n",
    "    return x_tensor\n",
    "\n",
    "\n",
    "\"\"\"\n",
    "DON'T MODIFY ANYTHING IN THIS CELL THAT IS BELOW THIS LINE\n",
    "\"\"\"\n",
    "tests.test_output(output)"
   ]
  },
  {
   "cell_type": "markdown",
   "metadata": {
    "deletable": true,
    "editable": true
   },
   "source": [
    "### Create Convolutional Model\n",
    "Implement the function `conv_net` to create a convolutional neural network model. The function takes in a batch of images, `x`, and outputs logits.  Use the layers you created above to create this model:\n",
    "\n",
    "* Apply 1, 2, or 3 Convolution and Max Pool layers\n",
    "* Apply a Flatten Layer\n",
    "* Apply 1, 2, or 3 Fully Connected Layers\n",
    "* Apply an Output Layer\n",
    "* Return the output\n",
    "* Apply [TensorFlow's Dropout](https://www.tensorflow.org/api_docs/python/tf/nn/dropout) to one or more layers in the model using `keep_prob`. "
   ]
  },
  {
   "cell_type": "code",
   "execution_count": 85,
   "metadata": {
    "collapsed": false,
    "deletable": true,
    "editable": true
   },
   "outputs": [
    {
     "name": "stdout",
     "output_type": "stream",
     "text": [
      "Neural Network Built!\n"
     ]
    }
   ],
   "source": [
    "def conv_net(x, keep_prob):\n",
    "    \"\"\"\n",
    "    Create a convolutional neural network model\n",
    "    : x: Placeholder tensor that holds image data.\n",
    "    : keep_prob: Placeholder tensor that hold dropout keep probability.\n",
    "    : return: Tensor that represents logits\n",
    "    \"\"\"\n",
    "    \n",
    "    network = conv2d_maxpool(x,       32, [3,3], [2,2], [2,2], [2,2])\n",
    "    network = tf.nn.dropout(conv2d_maxpool(network, 256, [3,3], [2,2], [2,2], [2,2]), keep_prob=keep_prob)\n",
    "    network = conv2d_maxpool(network, 512, [3,3], [2,2], [2,2], [2,2])\n",
    "\n",
    "    network = flatten(network)\n",
    "\n",
    "    network = fully_conn(network, 512)\n",
    "    network = tf.nn.dropout(fully_conn(network, 512), keep_prob=keep_prob)\n",
    "\n",
    "    out = output(network, 10)\n",
    "    \n",
    "    return out\n",
    "\n",
    "\n",
    "\"\"\"\n",
    "DON'T MODIFY ANYTHING IN THIS CELL THAT IS BELOW THIS LINE\n",
    "\"\"\"\n",
    "\n",
    "##############################\n",
    "## Build the Neural Network ##\n",
    "##############################\n",
    "\n",
    "# Remove previous weights, bias, inputs, etc..\n",
    "tf.reset_default_graph()\n",
    "\n",
    "# Inputs\n",
    "x = neural_net_image_input((32, 32, 3))\n",
    "y = neural_net_label_input(10)\n",
    "keep_prob = neural_net_keep_prob_input()\n",
    "\n",
    "# Model\n",
    "logits = conv_net(x, keep_prob)\n",
    "\n",
    "# Name logits Tensor, so that is can be loaded from disk after training\n",
    "logits = tf.identity(logits, name='logits')\n",
    "\n",
    "# Loss and Optimizer\n",
    "cost = tf.reduce_mean(tf.nn.softmax_cross_entropy_with_logits(logits=logits, labels=y))\n",
    "optimizer = tf.train.AdamOptimizer().minimize(cost)\n",
    "\n",
    "# Accuracy\n",
    "correct_pred = tf.equal(tf.argmax(logits, 1), tf.argmax(y, 1))\n",
    "accuracy = tf.reduce_mean(tf.cast(correct_pred, tf.float32), name='accuracy')\n",
    "\n",
    "tests.test_conv_net(conv_net)"
   ]
  },
  {
   "cell_type": "markdown",
   "metadata": {
    "deletable": true,
    "editable": true
   },
   "source": [
    "## Train the Neural Network\n",
    "### Single Optimization\n",
    "Implement the function `train_neural_network` to do a single optimization.  The optimization should use `optimizer` to optimize in `session` with a `feed_dict` of the following:\n",
    "* `x` for image input\n",
    "* `y` for labels\n",
    "* `keep_prob` for keep probability for dropout\n",
    "\n",
    "This function will be called for each batch, so `tf.global_variables_initializer()` has already been called.\n",
    "\n",
    "Note: Nothing needs to be returned. This function is only optimizing the neural network."
   ]
  },
  {
   "cell_type": "code",
   "execution_count": 86,
   "metadata": {
    "collapsed": false,
    "deletable": true,
    "editable": true
   },
   "outputs": [
    {
     "name": "stdout",
     "output_type": "stream",
     "text": [
      "Tests Passed\n"
     ]
    }
   ],
   "source": [
    "def train_neural_network(session, optimizer, keep_probability, feature_batch, label_batch):\n",
    "    \"\"\"\n",
    "    Optimize the session on a batch of images and labels\n",
    "    : session: Current TensorFlow session\n",
    "    : optimizer: TensorFlow optimizer function\n",
    "    : keep_probability: keep probability\n",
    "    : feature_batch: Batch of Numpy image data\n",
    "    : label_batch: Batch of Numpy label data\n",
    "    \"\"\"\n",
    "    session.run(optimizer, feed_dict={\n",
    "        x: feature_batch,\n",
    "        y: label_batch,\n",
    "        keep_prob: keep_probability})\n",
    "    pass\n",
    "\n",
    "\n",
    "\"\"\"\n",
    "DON'T MODIFY ANYTHING IN THIS CELL THAT IS BELOW THIS LINE\n",
    "\"\"\"\n",
    "tests.test_train_nn(train_neural_network)"
   ]
  },
  {
   "cell_type": "markdown",
   "metadata": {
    "deletable": true,
    "editable": true
   },
   "source": [
    "### Show Stats\n",
    "Implement the function `print_stats` to print loss and validation accuracy.  Use the global variables `valid_features` and `valid_labels` to calculate validation accuracy.  Use a keep probability of `1.0` to calculate the loss and validation accuracy."
   ]
  },
  {
   "cell_type": "code",
   "execution_count": 87,
   "metadata": {
    "collapsed": false,
    "deletable": true,
    "editable": true
   },
   "outputs": [],
   "source": [
    "def print_stats(session, feature_batch, label_batch, cost, accuracy):\n",
    "    \"\"\"\n",
    "    Print information about loss and validation accuracy\n",
    "    : session: Current TensorFlow session\n",
    "    : feature_batch: Batch of Numpy image data\n",
    "    : label_batch: Batch of Numpy label data\n",
    "    : cost: TensorFlow cost function\n",
    "    : accuracy: TensorFlow accuracy function\n",
    "    \"\"\"\n",
    "    loss = session.run(cost, feed_dict={\n",
    "        x: feature_batch,\n",
    "        y: label_batch,\n",
    "        keep_prob: 1\n",
    "    })\n",
    "    accuracy = session.run(accuracy, feed_dict={\n",
    "        x: valid_features,\n",
    "        y: valid_labels,\n",
    "        keep_prob: 1\n",
    "    })\n",
    "    \n",
    "    print('Loss: {:>10.4f} Validation Accuracy: {:.6f}'.format(\n",
    "                loss,\n",
    "                accuracy))\n",
    "    \n",
    "    pass"
   ]
  },
  {
   "cell_type": "markdown",
   "metadata": {
    "deletable": true,
    "editable": true
   },
   "source": [
    "### Hyperparameters\n",
    "Tune the following parameters:\n",
    "* Set `epochs` to the number of iterations until the network stops learning or start overfitting\n",
    "* Set `batch_size` to the highest number that your machine has memory for.  Most people set them to common sizes of memory:\n",
    " * 64\n",
    " * 128\n",
    " * 256\n",
    " * ...\n",
    "* Set `keep_probability` to the probability of keeping a node using dropout"
   ]
  },
  {
   "cell_type": "code",
   "execution_count": 88,
   "metadata": {
    "collapsed": true,
    "deletable": true,
    "editable": true
   },
   "outputs": [],
   "source": [
    "# TODO: Tune Parameters\n",
    "epochs = 30\n",
    "batch_size = 512\n",
    "keep_probability = .75"
   ]
  },
  {
   "cell_type": "markdown",
   "metadata": {
    "deletable": true,
    "editable": true
   },
   "source": [
    "### Train on a Single CIFAR-10 Batch\n",
    "Instead of training the neural network on all the CIFAR-10 batches of data, let's use a single batch. This should save time while you iterate on the model to get a better accuracy.  Once the final validation accuracy is 50% or greater, run the model on all the data in the next section."
   ]
  },
  {
   "cell_type": "code",
   "execution_count": 89,
   "metadata": {
    "collapsed": false,
    "deletable": true,
    "editable": true
   },
   "outputs": [
    {
     "name": "stdout",
     "output_type": "stream",
     "text": [
      "Checking the Training on a Single Batch...\n",
      "Epoch  1, CIFAR-10 Batch 1:  Loss:     2.2210 Validation Accuracy: 0.176200\n",
      "Epoch  2, CIFAR-10 Batch 1:  Loss:     2.0495 Validation Accuracy: 0.268400\n",
      "Epoch  3, CIFAR-10 Batch 1:  Loss:     1.9344 Validation Accuracy: 0.302800\n",
      "Epoch  4, CIFAR-10 Batch 1:  Loss:     1.8355 Validation Accuracy: 0.338000\n",
      "Epoch  5, CIFAR-10 Batch 1:  Loss:     1.7378 Validation Accuracy: 0.375600\n",
      "Epoch  6, CIFAR-10 Batch 1:  Loss:     1.6539 Validation Accuracy: 0.402200\n",
      "Epoch  7, CIFAR-10 Batch 1:  Loss:     1.5721 Validation Accuracy: 0.432200\n",
      "Epoch  8, CIFAR-10 Batch 1:  Loss:     1.4823 Validation Accuracy: 0.445200\n",
      "Epoch  9, CIFAR-10 Batch 1:  Loss:     1.4436 Validation Accuracy: 0.452400\n",
      "Epoch 10, CIFAR-10 Batch 1:  Loss:     1.3670 Validation Accuracy: 0.473600\n",
      "Epoch 11, CIFAR-10 Batch 1:  Loss:     1.3043 Validation Accuracy: 0.485400\n",
      "Epoch 12, CIFAR-10 Batch 1:  Loss:     1.2673 Validation Accuracy: 0.482800\n",
      "Epoch 13, CIFAR-10 Batch 1:  Loss:     1.1750 Validation Accuracy: 0.498400\n",
      "Epoch 14, CIFAR-10 Batch 1:  Loss:     1.1033 Validation Accuracy: 0.511800\n",
      "Epoch 15, CIFAR-10 Batch 1:  Loss:     1.0675 Validation Accuracy: 0.506000\n",
      "Epoch 16, CIFAR-10 Batch 1:  Loss:     1.0234 Validation Accuracy: 0.509600\n",
      "Epoch 17, CIFAR-10 Batch 1:  Loss:     0.9560 Validation Accuracy: 0.523200\n",
      "Epoch 18, CIFAR-10 Batch 1:  Loss:     0.8992 Validation Accuracy: 0.519800\n",
      "Epoch 19, CIFAR-10 Batch 1:  Loss:     0.7955 Validation Accuracy: 0.534200\n",
      "Epoch 20, CIFAR-10 Batch 1:  Loss:     0.7239 Validation Accuracy: 0.539400\n",
      "Epoch 21, CIFAR-10 Batch 1:  Loss:     0.7084 Validation Accuracy: 0.538400\n",
      "Epoch 22, CIFAR-10 Batch 1:  Loss:     0.6317 Validation Accuracy: 0.538200\n",
      "Epoch 23, CIFAR-10 Batch 1:  Loss:     0.5971 Validation Accuracy: 0.543800\n",
      "Epoch 24, CIFAR-10 Batch 1:  Loss:     0.5759 Validation Accuracy: 0.534600\n",
      "Epoch 25, CIFAR-10 Batch 1:  Loss:     0.5113 Validation Accuracy: 0.548000\n",
      "Epoch 26, CIFAR-10 Batch 1:  Loss:     0.5618 Validation Accuracy: 0.526200\n",
      "Epoch 27, CIFAR-10 Batch 1:  Loss:     0.4461 Validation Accuracy: 0.524600\n",
      "Epoch 28, CIFAR-10 Batch 1:  Loss:     0.3884 Validation Accuracy: 0.536400\n",
      "Epoch 29, CIFAR-10 Batch 1:  Loss:     0.3740 Validation Accuracy: 0.530400\n",
      "Epoch 30, CIFAR-10 Batch 1:  Loss:     0.3503 Validation Accuracy: 0.528000\n"
     ]
    }
   ],
   "source": [
    "\"\"\"\n",
    "DON'T MODIFY ANYTHING IN THIS CELL\n",
    "\"\"\"\n",
    "print('Checking the Training on a Single Batch...')\n",
    "with tf.Session() as sess:\n",
    "    # Initializing the variables\n",
    "    sess.run(tf.global_variables_initializer())\n",
    "    \n",
    "    # Training cycle\n",
    "    for epoch in range(epochs):\n",
    "        batch_i = 1\n",
    "        for batch_features, batch_labels in helper.load_preprocess_training_batch(batch_i, batch_size):\n",
    "            train_neural_network(sess, optimizer, keep_probability, batch_features, batch_labels)\n",
    "        print('Epoch {:>2}, CIFAR-10 Batch {}:  '.format(epoch + 1, batch_i), end='')\n",
    "        print_stats(sess, batch_features, batch_labels, cost, accuracy)"
   ]
  },
  {
   "cell_type": "markdown",
   "metadata": {
    "deletable": true,
    "editable": true
   },
   "source": [
    "### Fully Train the Model\n",
    "Now that you got a good accuracy with a single CIFAR-10 batch, try it with all five batches."
   ]
  },
  {
   "cell_type": "code",
   "execution_count": 90,
   "metadata": {
    "collapsed": false,
    "deletable": true,
    "editable": true
   },
   "outputs": [
    {
     "name": "stdout",
     "output_type": "stream",
     "text": [
      "Training...\n",
      "Epoch  1, CIFAR-10 Batch 1:  Loss:     2.1922 Validation Accuracy: 0.209800\n",
      "Epoch  1, CIFAR-10 Batch 2:  Loss:     1.9850 Validation Accuracy: 0.263200\n",
      "Epoch  1, CIFAR-10 Batch 3:  Loss:     1.8446 Validation Accuracy: 0.311000\n",
      "Epoch  1, CIFAR-10 Batch 4:  Loss:     1.6974 Validation Accuracy: 0.356000\n",
      "Epoch  1, CIFAR-10 Batch 5:  Loss:     1.7215 Validation Accuracy: 0.372000\n",
      "Epoch  2, CIFAR-10 Batch 1:  Loss:     1.6991 Validation Accuracy: 0.400400\n",
      "Epoch  2, CIFAR-10 Batch 2:  Loss:     1.5330 Validation Accuracy: 0.426600\n",
      "Epoch  2, CIFAR-10 Batch 3:  Loss:     1.3528 Validation Accuracy: 0.435400\n",
      "Epoch  2, CIFAR-10 Batch 4:  Loss:     1.3960 Validation Accuracy: 0.452400\n",
      "Epoch  2, CIFAR-10 Batch 5:  Loss:     1.4443 Validation Accuracy: 0.456600\n",
      "Epoch  3, CIFAR-10 Batch 1:  Loss:     1.4865 Validation Accuracy: 0.475200\n",
      "Epoch  3, CIFAR-10 Batch 2:  Loss:     1.3542 Validation Accuracy: 0.490800\n",
      "Epoch  3, CIFAR-10 Batch 3:  Loss:     1.1862 Validation Accuracy: 0.490600\n",
      "Epoch  3, CIFAR-10 Batch 4:  Loss:     1.2237 Validation Accuracy: 0.502000\n",
      "Epoch  3, CIFAR-10 Batch 5:  Loss:     1.2900 Validation Accuracy: 0.508800\n",
      "Epoch  4, CIFAR-10 Batch 1:  Loss:     1.3557 Validation Accuracy: 0.507200\n",
      "Epoch  4, CIFAR-10 Batch 2:  Loss:     1.2138 Validation Accuracy: 0.512800\n",
      "Epoch  4, CIFAR-10 Batch 3:  Loss:     1.1009 Validation Accuracy: 0.516000\n",
      "Epoch  4, CIFAR-10 Batch 4:  Loss:     1.1037 Validation Accuracy: 0.534200\n",
      "Epoch  4, CIFAR-10 Batch 5:  Loss:     1.1731 Validation Accuracy: 0.541800\n",
      "Epoch  5, CIFAR-10 Batch 1:  Loss:     1.2574 Validation Accuracy: 0.540800\n",
      "Epoch  5, CIFAR-10 Batch 2:  Loss:     1.1196 Validation Accuracy: 0.536600\n",
      "Epoch  5, CIFAR-10 Batch 3:  Loss:     1.0160 Validation Accuracy: 0.547200\n",
      "Epoch  5, CIFAR-10 Batch 4:  Loss:     1.0089 Validation Accuracy: 0.548800\n",
      "Epoch  5, CIFAR-10 Batch 5:  Loss:     1.0716 Validation Accuracy: 0.567000\n",
      "Epoch  6, CIFAR-10 Batch 1:  Loss:     1.1803 Validation Accuracy: 0.557600\n",
      "Epoch  6, CIFAR-10 Batch 2:  Loss:     1.0753 Validation Accuracy: 0.562000\n",
      "Epoch  6, CIFAR-10 Batch 3:  Loss:     0.9649 Validation Accuracy: 0.562000\n",
      "Epoch  6, CIFAR-10 Batch 4:  Loss:     0.9235 Validation Accuracy: 0.574200\n",
      "Epoch  6, CIFAR-10 Batch 5:  Loss:     1.0082 Validation Accuracy: 0.575200\n",
      "Epoch  7, CIFAR-10 Batch 1:  Loss:     1.0894 Validation Accuracy: 0.581800\n",
      "Epoch  7, CIFAR-10 Batch 2:  Loss:     0.9798 Validation Accuracy: 0.588800\n",
      "Epoch  7, CIFAR-10 Batch 3:  Loss:     0.9002 Validation Accuracy: 0.575800\n",
      "Epoch  7, CIFAR-10 Batch 4:  Loss:     0.8697 Validation Accuracy: 0.582200\n",
      "Epoch  7, CIFAR-10 Batch 5:  Loss:     0.9350 Validation Accuracy: 0.586600\n",
      "Epoch  8, CIFAR-10 Batch 1:  Loss:     1.0001 Validation Accuracy: 0.598600\n",
      "Epoch  8, CIFAR-10 Batch 2:  Loss:     0.9610 Validation Accuracy: 0.583800\n",
      "Epoch  8, CIFAR-10 Batch 3:  Loss:     0.8495 Validation Accuracy: 0.590600\n",
      "Epoch  8, CIFAR-10 Batch 4:  Loss:     0.8131 Validation Accuracy: 0.591600\n",
      "Epoch  8, CIFAR-10 Batch 5:  Loss:     0.8599 Validation Accuracy: 0.607800\n",
      "Epoch  9, CIFAR-10 Batch 1:  Loss:     0.9455 Validation Accuracy: 0.605200\n",
      "Epoch  9, CIFAR-10 Batch 2:  Loss:     0.8569 Validation Accuracy: 0.599600\n",
      "Epoch  9, CIFAR-10 Batch 3:  Loss:     0.7860 Validation Accuracy: 0.611800\n",
      "Epoch  9, CIFAR-10 Batch 4:  Loss:     0.7407 Validation Accuracy: 0.605400\n",
      "Epoch  9, CIFAR-10 Batch 5:  Loss:     0.8212 Validation Accuracy: 0.613400\n",
      "Epoch 10, CIFAR-10 Batch 1:  Loss:     0.8698 Validation Accuracy: 0.617400\n",
      "Epoch 10, CIFAR-10 Batch 2:  Loss:     0.8336 Validation Accuracy: 0.607600\n",
      "Epoch 10, CIFAR-10 Batch 3:  Loss:     0.7309 Validation Accuracy: 0.616400\n",
      "Epoch 10, CIFAR-10 Batch 4:  Loss:     0.7184 Validation Accuracy: 0.609000\n",
      "Epoch 10, CIFAR-10 Batch 5:  Loss:     0.7423 Validation Accuracy: 0.613800\n",
      "Epoch 11, CIFAR-10 Batch 1:  Loss:     0.8131 Validation Accuracy: 0.620600\n",
      "Epoch 11, CIFAR-10 Batch 2:  Loss:     0.8111 Validation Accuracy: 0.600600\n",
      "Epoch 11, CIFAR-10 Batch 3:  Loss:     0.7027 Validation Accuracy: 0.615400\n",
      "Epoch 11, CIFAR-10 Batch 4:  Loss:     0.6479 Validation Accuracy: 0.629200\n",
      "Epoch 11, CIFAR-10 Batch 5:  Loss:     0.6959 Validation Accuracy: 0.624200\n",
      "Epoch 12, CIFAR-10 Batch 1:  Loss:     0.7490 Validation Accuracy: 0.626800\n",
      "Epoch 12, CIFAR-10 Batch 2:  Loss:     0.7045 Validation Accuracy: 0.630000\n",
      "Epoch 12, CIFAR-10 Batch 3:  Loss:     0.6672 Validation Accuracy: 0.636200\n",
      "Epoch 12, CIFAR-10 Batch 4:  Loss:     0.6305 Validation Accuracy: 0.618200\n",
      "Epoch 12, CIFAR-10 Batch 5:  Loss:     0.6375 Validation Accuracy: 0.627400\n",
      "Epoch 13, CIFAR-10 Batch 1:  Loss:     0.6974 Validation Accuracy: 0.627200\n",
      "Epoch 13, CIFAR-10 Batch 2:  Loss:     0.6864 Validation Accuracy: 0.618400\n",
      "Epoch 13, CIFAR-10 Batch 3:  Loss:     0.5839 Validation Accuracy: 0.636800\n",
      "Epoch 13, CIFAR-10 Batch 4:  Loss:     0.5606 Validation Accuracy: 0.627200\n",
      "Epoch 13, CIFAR-10 Batch 5:  Loss:     0.6151 Validation Accuracy: 0.629400\n",
      "Epoch 14, CIFAR-10 Batch 1:  Loss:     0.6383 Validation Accuracy: 0.638200\n",
      "Epoch 14, CIFAR-10 Batch 2:  Loss:     0.6439 Validation Accuracy: 0.619800\n",
      "Epoch 14, CIFAR-10 Batch 3:  Loss:     0.5332 Validation Accuracy: 0.642000\n",
      "Epoch 14, CIFAR-10 Batch 4:  Loss:     0.4970 Validation Accuracy: 0.627800\n",
      "Epoch 14, CIFAR-10 Batch 5:  Loss:     0.5598 Validation Accuracy: 0.637600\n",
      "Epoch 15, CIFAR-10 Batch 1:  Loss:     0.6342 Validation Accuracy: 0.626600\n",
      "Epoch 15, CIFAR-10 Batch 2:  Loss:     0.5578 Validation Accuracy: 0.627800\n",
      "Epoch 15, CIFAR-10 Batch 3:  Loss:     0.4867 Validation Accuracy: 0.641000\n",
      "Epoch 15, CIFAR-10 Batch 4:  Loss:     0.4564 Validation Accuracy: 0.632000\n",
      "Epoch 15, CIFAR-10 Batch 5:  Loss:     0.5417 Validation Accuracy: 0.636600\n",
      "Epoch 16, CIFAR-10 Batch 1:  Loss:     0.5193 Validation Accuracy: 0.648000\n",
      "Epoch 16, CIFAR-10 Batch 2:  Loss:     0.5310 Validation Accuracy: 0.627800\n",
      "Epoch 16, CIFAR-10 Batch 3:  Loss:     0.4475 Validation Accuracy: 0.645000\n",
      "Epoch 16, CIFAR-10 Batch 4:  Loss:     0.4349 Validation Accuracy: 0.636000\n",
      "Epoch 16, CIFAR-10 Batch 5:  Loss:     0.4901 Validation Accuracy: 0.644600\n",
      "Epoch 17, CIFAR-10 Batch 1:  Loss:     0.4921 Validation Accuracy: 0.637400\n",
      "Epoch 17, CIFAR-10 Batch 2:  Loss:     0.4800 Validation Accuracy: 0.630600\n",
      "Epoch 17, CIFAR-10 Batch 3:  Loss:     0.4313 Validation Accuracy: 0.636600\n",
      "Epoch 17, CIFAR-10 Batch 4:  Loss:     0.3510 Validation Accuracy: 0.640000\n",
      "Epoch 17, CIFAR-10 Batch 5:  Loss:     0.4237 Validation Accuracy: 0.647200\n",
      "Epoch 18, CIFAR-10 Batch 1:  Loss:     0.4742 Validation Accuracy: 0.631600\n",
      "Epoch 18, CIFAR-10 Batch 2:  Loss:     0.4652 Validation Accuracy: 0.624200\n",
      "Epoch 18, CIFAR-10 Batch 3:  Loss:     0.4205 Validation Accuracy: 0.646800\n",
      "Epoch 18, CIFAR-10 Batch 4:  Loss:     0.3345 Validation Accuracy: 0.642200\n",
      "Epoch 18, CIFAR-10 Batch 5:  Loss:     0.3925 Validation Accuracy: 0.653200\n",
      "Epoch 19, CIFAR-10 Batch 1:  Loss:     0.4274 Validation Accuracy: 0.645200\n",
      "Epoch 19, CIFAR-10 Batch 2:  Loss:     0.4220 Validation Accuracy: 0.618800\n",
      "Epoch 19, CIFAR-10 Batch 3:  Loss:     0.3394 Validation Accuracy: 0.650600\n",
      "Epoch 19, CIFAR-10 Batch 4:  Loss:     0.3214 Validation Accuracy: 0.646400\n",
      "Epoch 19, CIFAR-10 Batch 5:  Loss:     0.3538 Validation Accuracy: 0.659800\n",
      "Epoch 20, CIFAR-10 Batch 1:  Loss:     0.3915 Validation Accuracy: 0.648400\n",
      "Epoch 20, CIFAR-10 Batch 2:  Loss:     0.3972 Validation Accuracy: 0.616800\n",
      "Epoch 20, CIFAR-10 Batch 3:  Loss:     0.3113 Validation Accuracy: 0.661400\n",
      "Epoch 20, CIFAR-10 Batch 4:  Loss:     0.2731 Validation Accuracy: 0.657800\n",
      "Epoch 20, CIFAR-10 Batch 5:  Loss:     0.3290 Validation Accuracy: 0.657200\n",
      "Epoch 21, CIFAR-10 Batch 1:  Loss:     0.3844 Validation Accuracy: 0.630200\n",
      "Epoch 21, CIFAR-10 Batch 2:  Loss:     0.3367 Validation Accuracy: 0.633800\n",
      "Epoch 21, CIFAR-10 Batch 3:  Loss:     0.3022 Validation Accuracy: 0.660600\n",
      "Epoch 21, CIFAR-10 Batch 4:  Loss:     0.2336 Validation Accuracy: 0.662800\n",
      "Epoch 21, CIFAR-10 Batch 5:  Loss:     0.2887 Validation Accuracy: 0.648400\n",
      "Epoch 22, CIFAR-10 Batch 1:  Loss:     0.3758 Validation Accuracy: 0.628200\n",
      "Epoch 22, CIFAR-10 Batch 2:  Loss:     0.3710 Validation Accuracy: 0.613600\n",
      "Epoch 22, CIFAR-10 Batch 3:  Loss:     0.3092 Validation Accuracy: 0.647000\n",
      "Epoch 22, CIFAR-10 Batch 4:  Loss:     0.2405 Validation Accuracy: 0.648400\n",
      "Epoch 22, CIFAR-10 Batch 5:  Loss:     0.2582 Validation Accuracy: 0.655000\n",
      "Epoch 23, CIFAR-10 Batch 1:  Loss:     0.3340 Validation Accuracy: 0.638200\n",
      "Epoch 23, CIFAR-10 Batch 2:  Loss:     0.2644 Validation Accuracy: 0.641400\n",
      "Epoch 23, CIFAR-10 Batch 3:  Loss:     0.2796 Validation Accuracy: 0.647000\n",
      "Epoch 23, CIFAR-10 Batch 4:  Loss:     0.1916 Validation Accuracy: 0.651600\n",
      "Epoch 23, CIFAR-10 Batch 5:  Loss:     0.2499 Validation Accuracy: 0.646200\n",
      "Epoch 24, CIFAR-10 Batch 1:  Loss:     0.2625 Validation Accuracy: 0.654000\n",
      "Epoch 24, CIFAR-10 Batch 2:  Loss:     0.2318 Validation Accuracy: 0.653000\n",
      "Epoch 24, CIFAR-10 Batch 3:  Loss:     0.2122 Validation Accuracy: 0.654200\n",
      "Epoch 24, CIFAR-10 Batch 4:  Loss:     0.2017 Validation Accuracy: 0.647000\n",
      "Epoch 24, CIFAR-10 Batch 5:  Loss:     0.2211 Validation Accuracy: 0.643600\n",
      "Epoch 25, CIFAR-10 Batch 1:  Loss:     0.2502 Validation Accuracy: 0.657600\n",
      "Epoch 25, CIFAR-10 Batch 2:  Loss:     0.1870 Validation Accuracy: 0.656400\n",
      "Epoch 25, CIFAR-10 Batch 3:  Loss:     0.1915 Validation Accuracy: 0.648400\n",
      "Epoch 25, CIFAR-10 Batch 4:  Loss:     0.1611 Validation Accuracy: 0.647200\n",
      "Epoch 25, CIFAR-10 Batch 5:  Loss:     0.1963 Validation Accuracy: 0.655800\n",
      "Epoch 26, CIFAR-10 Batch 1:  Loss:     0.2061 Validation Accuracy: 0.660000\n",
      "Epoch 26, CIFAR-10 Batch 2:  Loss:     0.1745 Validation Accuracy: 0.661000\n",
      "Epoch 26, CIFAR-10 Batch 3:  Loss:     0.1843 Validation Accuracy: 0.647400\n",
      "Epoch 26, CIFAR-10 Batch 4:  Loss:     0.1883 Validation Accuracy: 0.641000\n",
      "Epoch 26, CIFAR-10 Batch 5:  Loss:     0.1673 Validation Accuracy: 0.653200\n",
      "Epoch 27, CIFAR-10 Batch 1:  Loss:     0.1873 Validation Accuracy: 0.662600\n",
      "Epoch 27, CIFAR-10 Batch 2:  Loss:     0.1320 Validation Accuracy: 0.668800\n",
      "Epoch 27, CIFAR-10 Batch 3:  Loss:     0.1741 Validation Accuracy: 0.638400\n",
      "Epoch 27, CIFAR-10 Batch 4:  Loss:     0.1448 Validation Accuracy: 0.648200\n",
      "Epoch 27, CIFAR-10 Batch 5:  Loss:     0.1497 Validation Accuracy: 0.656400\n",
      "Epoch 28, CIFAR-10 Batch 1:  Loss:     0.1482 Validation Accuracy: 0.668600\n",
      "Epoch 28, CIFAR-10 Batch 2:  Loss:     0.1463 Validation Accuracy: 0.657200\n",
      "Epoch 28, CIFAR-10 Batch 3:  Loss:     0.1448 Validation Accuracy: 0.652000\n",
      "Epoch 28, CIFAR-10 Batch 4:  Loss:     0.1141 Validation Accuracy: 0.656000\n",
      "Epoch 28, CIFAR-10 Batch 5:  Loss:     0.1310 Validation Accuracy: 0.655800\n",
      "Epoch 29, CIFAR-10 Batch 1:  Loss:     0.1360 Validation Accuracy: 0.658600\n",
      "Epoch 29, CIFAR-10 Batch 2:  Loss:     0.1182 Validation Accuracy: 0.656600\n",
      "Epoch 29, CIFAR-10 Batch 3:  Loss:     0.1442 Validation Accuracy: 0.638800\n",
      "Epoch 29, CIFAR-10 Batch 4:  Loss:     0.1026 Validation Accuracy: 0.656400\n",
      "Epoch 29, CIFAR-10 Batch 5:  Loss:     0.1105 Validation Accuracy: 0.654600\n",
      "Epoch 30, CIFAR-10 Batch 1:  Loss:     0.1105 Validation Accuracy: 0.672600\n",
      "Epoch 30, CIFAR-10 Batch 2:  Loss:     0.1095 Validation Accuracy: 0.651000\n",
      "Epoch 30, CIFAR-10 Batch 3:  Loss:     0.1092 Validation Accuracy: 0.658800\n",
      "Epoch 30, CIFAR-10 Batch 4:  Loss:     0.0861 Validation Accuracy: 0.654200\n",
      "Epoch 30, CIFAR-10 Batch 5:  Loss:     0.0804 Validation Accuracy: 0.658800\n"
     ]
    }
   ],
   "source": [
    "\"\"\"\n",
    "DON'T MODIFY ANYTHING IN THIS CELL\n",
    "\"\"\"\n",
    "save_model_path = './image_classification'\n",
    "\n",
    "print('Training...')\n",
    "with tf.Session() as sess:\n",
    "    # Initializing the variables\n",
    "    sess.run(tf.global_variables_initializer())\n",
    "    \n",
    "    # Training cycle\n",
    "    for epoch in range(epochs):\n",
    "        # Loop over all batches\n",
    "        n_batches = 5\n",
    "        for batch_i in range(1, n_batches + 1):\n",
    "            for batch_features, batch_labels in helper.load_preprocess_training_batch(batch_i, batch_size):\n",
    "                train_neural_network(sess, optimizer, keep_probability, batch_features, batch_labels)\n",
    "            print('Epoch {:>2}, CIFAR-10 Batch {}:  '.format(epoch + 1, batch_i), end='')\n",
    "            print_stats(sess, batch_features, batch_labels, cost, accuracy)\n",
    "            \n",
    "    # Save Model\n",
    "    saver = tf.train.Saver()\n",
    "    save_path = saver.save(sess, save_model_path)"
   ]
  },
  {
   "cell_type": "markdown",
   "metadata": {
    "deletable": true,
    "editable": true
   },
   "source": [
    "# Checkpoint\n",
    "The model has been saved to disk.\n",
    "## Test Model\n",
    "Test your model against the test dataset.  This will be your final accuracy. You should have an accuracy greater than 50%. If you don't, keep tweaking the model architecture and parameters."
   ]
  },
  {
   "cell_type": "code",
   "execution_count": 91,
   "metadata": {
    "collapsed": false,
    "deletable": true,
    "editable": true
   },
   "outputs": [
    {
     "name": "stdout",
     "output_type": "stream",
     "text": [
      "Testing Accuracy: 0.6547334581613541\n",
      "\n"
     ]
    },
    {
     "data": {
      "image/png": "[encoded data removed]",
      "text/plain": [
       "<matplotlib.figure.Figure at 0x7f3b6c4d25c0>"
      ]
     },
     "metadata": {
      "image/png": {
       "height": 319,
       "width": 355
      }
     },
     "output_type": "display_data"
    }
   ],
   "source": [
    "\"\"\"\n",
    "DON'T MODIFY ANYTHING IN THIS CELL\n",
    "\"\"\"\n",
    "%matplotlib inline\n",
    "%config InlineBackend.figure_format = 'retina'\n",
    "\n",
    "import tensorflow as tf\n",
    "import pickle\n",
    "import helper\n",
    "import random\n",
    "\n",
    "# Set batch size if not already set\n",
    "try:\n",
    "    if batch_size:\n",
    "        pass\n",
    "except NameError:\n",
    "    batch_size = 64\n",
    "\n",
    "save_model_path = './image_classification'\n",
    "n_samples = 4\n",
    "top_n_predictions = 3\n",
    "\n",
    "def test_model():\n",
    "    \"\"\"\n",
    "    Test the saved model against the test dataset\n",
    "    \"\"\"\n",
    "\n",
    "    test_features, test_labels = pickle.load(open('preprocess_training.p', mode='rb'))\n",
    "    loaded_graph = tf.Graph()\n",
    "\n",
    "    with tf.Session(graph=loaded_graph) as sess:\n",
    "        # Load model\n",
    "        loader = tf.train.import_meta_graph(save_model_path + '.meta')\n",
    "        loader.restore(sess, save_model_path)\n",
    "\n",
    "        # Get Tensors from loaded model\n",
    "        loaded_x = loaded_graph.get_tensor_by_name('x:0')\n",
    "        loaded_y = loaded_graph.get_tensor_by_name('y:0')\n",
    "        loaded_keep_prob = loaded_graph.get_tensor_by_name('keep_prob:0')\n",
    "        loaded_logits = loaded_graph.get_tensor_by_name('logits:0')\n",
    "        loaded_acc = loaded_graph.get_tensor_by_name('accuracy:0')\n",
    "        \n",
    "        # Get accuracy in batches for memory limitations\n",
    "        test_batch_acc_total = 0\n",
    "        test_batch_count = 0\n",
    "        \n",
    "        for train_feature_batch, train_label_batch in helper.batch_features_labels(test_features, test_labels, batch_size):\n",
    "            test_batch_acc_total += sess.run(\n",
    "                loaded_acc,\n",
    "                feed_dict={loaded_x: train_feature_batch, loaded_y: train_label_batch, loaded_keep_prob: 1.0})\n",
    "            test_batch_count += 1\n",
    "\n",
    "        print('Testing Accuracy: {}\\n'.format(test_batch_acc_total/test_batch_count))\n",
    "\n",
    "        # Print Random Samples\n",
    "        random_test_features, random_test_labels = tuple(zip(*random.sample(list(zip(test_features, test_labels)), n_samples)))\n",
    "        random_test_predictions = sess.run(\n",
    "            tf.nn.top_k(tf.nn.softmax(loaded_logits), top_n_predictions),\n",
    "            feed_dict={loaded_x: random_test_features, loaded_y: random_test_labels, loaded_keep_prob: 1.0})\n",
    "        helper.display_image_predictions(random_test_features, random_test_labels, random_test_predictions)\n",
    "\n",
    "\n",
    "test_model()"
   ]
  },
  {
   "cell_type": "markdown",
   "metadata": {
    "deletable": true,
    "editable": true
   },
   "source": [
    "## Why 50-70% Accuracy?\n",
    "You might be wondering why you can't get an accuracy any higher. First things first, 50% isn't bad for a simple CNN.  Pure guessing would get you 10% accuracy. However, you might notice people are getting scores [well above 70%](http://rodrigob.github.io/are_we_there_yet/build/classification_datasets_results.html#43494641522d3130).  That's because we haven't taught you all there is to know about neural networks. We still need to cover a few more techniques.\n",
    "## Submitting This Project\n",
    "When submitting this project, make sure to run all the cells before saving the notebook.  Save the notebook file as \"dlnd_image_classification.ipynb\" and save it as a HTML file under \"File\" -> \"Download as\".  Include the \"helper.py\" and \"problem_unittests.py\" files in your submission."
   ]
  }
 ],
 "metadata": {
  "anaconda-cloud": {},
  "kernelspec": {
   "display_name": "Python 3",
   "language": "python",
   "name": "python3"
  },
  "language_info": {
   "codemirror_mode": {
    "name": "ipython",
    "version": 3
   },
   "file_extension": ".py",
   "mimetype": "text/x-python",
   "name": "python",
   "nbconvert_exporter": "python",
   "pygments_lexer": "ipython3",
   "version": "3.5.2"
  }
 },
 "nbformat": 4,
 "nbformat_minor": 0
}
